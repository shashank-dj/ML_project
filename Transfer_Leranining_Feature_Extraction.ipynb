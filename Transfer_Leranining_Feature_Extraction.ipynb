{
  "nbformat": 4,
  "nbformat_minor": 0,
  "metadata": {
    "colab": {
      "name": "Transfer_Leranining: Feature_Extraction.ipynb",
      "provenance": [],
      "authorship_tag": "ABX9TyOf3AMCV+KMURloWEpU6Etr",
      "include_colab_link": true
    },
    "kernelspec": {
      "name": "python3",
      "display_name": "Python 3"
    },
    "language_info": {
      "name": "python"
    },
    "accelerator": "GPU"
  },
  "cells": [
    {
      "cell_type": "markdown",
      "metadata": {
        "id": "view-in-github",
        "colab_type": "text"
      },
      "source": [
        "<a href=\"https://colab.research.google.com/github/shashank-dj/ML_project/blob/main/Transfer_Leranining_Feature_Extraction.ipynb\" target=\"_parent\"><img src=\"https://colab.research.google.com/assets/colab-badge.svg\" alt=\"Open In Colab\"/></a>"
      ]
    },
    {
      "cell_type": "markdown",
      "metadata": {
        "id": "-Y22jzWbJbrc"
      },
      "source": [
        "# Transfer learning with TensorFlow part1: Feature Extraction\n",
        "\n",
        "Transfer lerning is leveraging a working models existing architecture and learned patterns for our own problem.\n",
        "\n",
        "There are two main benfits:\n",
        "1. Can leverage an existing neural network archetecture proven to work on problems similar to our own.\n",
        "2. Can leverage a working neural network architecture which has already learned patterns on similar dat to our own , then we can adapt those patterns to our own data"
      ]
    },
    {
      "cell_type": "code",
      "metadata": {
        "colab": {
          "base_uri": "https://localhost:8080/"
        },
        "id": "55IwMkJgKOcx",
        "outputId": "f936fda4-b67e-419d-c733-5d53f745884f"
      },
      "source": [
        "!nvidia-smi"
      ],
      "execution_count": 1,
      "outputs": [
        {
          "output_type": "stream",
          "text": [
            "Mon Jul 19 09:17:27 2021       \n",
            "+-----------------------------------------------------------------------------+\n",
            "| NVIDIA-SMI 470.42.01    Driver Version: 460.32.03    CUDA Version: 11.2     |\n",
            "|-------------------------------+----------------------+----------------------+\n",
            "| GPU  Name        Persistence-M| Bus-Id        Disp.A | Volatile Uncorr. ECC |\n",
            "| Fan  Temp  Perf  Pwr:Usage/Cap|         Memory-Usage | GPU-Util  Compute M. |\n",
            "|                               |                      |               MIG M. |\n",
            "|===============================+======================+======================|\n",
            "|   0  Tesla T4            Off  | 00000000:00:04.0 Off |                    0 |\n",
            "| N/A   66C    P8    10W /  70W |      0MiB / 15109MiB |      0%      Default |\n",
            "|                               |                      |                  N/A |\n",
            "+-------------------------------+----------------------+----------------------+\n",
            "                                                                               \n",
            "+-----------------------------------------------------------------------------+\n",
            "| Processes:                                                                  |\n",
            "|  GPU   GI   CI        PID   Type   Process name                  GPU Memory |\n",
            "|        ID   ID                                                   Usage      |\n",
            "|=============================================================================|\n",
            "|  No running processes found                                                 |\n",
            "+-----------------------------------------------------------------------------+\n"
          ],
          "name": "stdout"
        }
      ]
    },
    {
      "cell_type": "markdown",
      "metadata": {
        "id": "627-hmbjKXcl"
      },
      "source": [
        "# Downloading and becoming one with data"
      ]
    },
    {
      "cell_type": "code",
      "metadata": {
        "colab": {
          "base_uri": "https://localhost:8080/"
        },
        "id": "3RneQcAlKREp",
        "outputId": "29e73301-e835-4d14-f597-6aeb1e9cf739"
      },
      "source": [
        "# get data\n",
        "import zipfile\n",
        "#download the data\n",
        "!wget https://storage.googleapis.com/ztm_tf_course/food_vision/10_food_classes_10_percent.zip\n",
        "\n",
        "#unzip the downloaded file\n",
        "zip_ref = zipfile.ZipFile(\"10_food_classes_10_percent.zip\")\n",
        "zip_ref.extractall()\n",
        "zip_ref.close()"
      ],
      "execution_count": 2,
      "outputs": [
        {
          "output_type": "stream",
          "text": [
            "--2021-07-19 09:17:27--  https://storage.googleapis.com/ztm_tf_course/food_vision/10_food_classes_10_percent.zip\n",
            "Resolving storage.googleapis.com (storage.googleapis.com)... 142.251.2.128, 74.125.137.128, 142.250.141.128, ...\n",
            "Connecting to storage.googleapis.com (storage.googleapis.com)|142.251.2.128|:443... connected.\n",
            "HTTP request sent, awaiting response... 200 OK\n",
            "Length: 168546183 (161M) [application/zip]\n",
            "Saving to: ‘10_food_classes_10_percent.zip’\n",
            "\n",
            "10_food_classes_10_ 100%[===================>] 160.74M   162MB/s    in 1.0s    \n",
            "\n",
            "2021-07-19 09:17:28 (162 MB/s) - ‘10_food_classes_10_percent.zip’ saved [168546183/168546183]\n",
            "\n"
          ],
          "name": "stdout"
        }
      ]
    },
    {
      "cell_type": "code",
      "metadata": {
        "colab": {
          "base_uri": "https://localhost:8080/"
        },
        "id": "ITVX3W9FK_zv",
        "outputId": "e6a62496-7804-428a-c6a8-262cc5174ccf"
      },
      "source": [
        "import os\n",
        "for dirpath, dirnames, filenames in os.walk(\"10_food_classes_10_percent\"):\n",
        "  print(f\"There are {len(dirnames)} directions and {len(filenames)} images in '{dirpath}'. \")"
      ],
      "execution_count": 3,
      "outputs": [
        {
          "output_type": "stream",
          "text": [
            "There are 2 directions and 0 images in '10_food_classes_10_percent'. \n",
            "There are 10 directions and 0 images in '10_food_classes_10_percent/test'. \n",
            "There are 0 directions and 250 images in '10_food_classes_10_percent/test/hamburger'. \n",
            "There are 0 directions and 250 images in '10_food_classes_10_percent/test/grilled_salmon'. \n",
            "There are 0 directions and 250 images in '10_food_classes_10_percent/test/pizza'. \n",
            "There are 0 directions and 250 images in '10_food_classes_10_percent/test/chicken_curry'. \n",
            "There are 0 directions and 250 images in '10_food_classes_10_percent/test/sushi'. \n",
            "There are 0 directions and 250 images in '10_food_classes_10_percent/test/ice_cream'. \n",
            "There are 0 directions and 250 images in '10_food_classes_10_percent/test/fried_rice'. \n",
            "There are 0 directions and 250 images in '10_food_classes_10_percent/test/chicken_wings'. \n",
            "There are 0 directions and 250 images in '10_food_classes_10_percent/test/steak'. \n",
            "There are 0 directions and 250 images in '10_food_classes_10_percent/test/ramen'. \n",
            "There are 10 directions and 0 images in '10_food_classes_10_percent/train'. \n",
            "There are 0 directions and 75 images in '10_food_classes_10_percent/train/hamburger'. \n",
            "There are 0 directions and 75 images in '10_food_classes_10_percent/train/grilled_salmon'. \n",
            "There are 0 directions and 75 images in '10_food_classes_10_percent/train/pizza'. \n",
            "There are 0 directions and 75 images in '10_food_classes_10_percent/train/chicken_curry'. \n",
            "There are 0 directions and 75 images in '10_food_classes_10_percent/train/sushi'. \n",
            "There are 0 directions and 75 images in '10_food_classes_10_percent/train/ice_cream'. \n",
            "There are 0 directions and 75 images in '10_food_classes_10_percent/train/fried_rice'. \n",
            "There are 0 directions and 75 images in '10_food_classes_10_percent/train/chicken_wings'. \n",
            "There are 0 directions and 75 images in '10_food_classes_10_percent/train/steak'. \n",
            "There are 0 directions and 75 images in '10_food_classes_10_percent/train/ramen'. \n"
          ],
          "name": "stdout"
        }
      ]
    },
    {
      "cell_type": "markdown",
      "metadata": {
        "id": "iEZVuZtjLfch"
      },
      "source": [
        "#Creating data loaders(preparing the data)\n",
        "\n",
        "we will use `ImageDataGenerator` class to load in our images in batches."
      ]
    },
    {
      "cell_type": "code",
      "metadata": {
        "colab": {
          "base_uri": "https://localhost:8080/"
        },
        "id": "kgi4NIJALe8K",
        "outputId": "39fc9fdd-6509-4ed0-c633-88e8d381f0e3"
      },
      "source": [
        "#setup data inputs\n",
        "from tensorflow.keras.preprocessing.image import ImageDataGenerator\n",
        "\n",
        "IMAGE_SHAPE = (224,224)\n",
        "BATCH_SIZE = 32\n",
        "\n",
        "train_dir = \"10_food_classes_10_percent/train/\"\n",
        "test_dir = \"10_food_classes_10_percent/test/\"\n",
        "train_datagen = ImageDataGenerator(rescale=1/255.)\n",
        "test_datagen = ImageDataGenerator(rescale=1/255.)\n",
        "\n",
        "print(\"Training images:\")\n",
        "train_data_10_percent = train_datagen.flow_from_directory(train_dir,\n",
        "                                                          target_size=IMAGE_SHAPE,\n",
        "                                                          batch_size=BATCH_SIZE,\n",
        "                                                          class_mode=\"categorical\")\n",
        "\n",
        "print(\"Testing images:\")\n",
        "test_data_10_percent = test_datagen.flow_from_directory(test_dir,\n",
        "                                                          target_size=IMAGE_SHAPE,\n",
        "                                                          batch_size=BATCH_SIZE,\n",
        "                                                          class_mode=\"categorical\")"
      ],
      "execution_count": 4,
      "outputs": [
        {
          "output_type": "stream",
          "text": [
            "Training images:\n",
            "Found 750 images belonging to 10 classes.\n",
            "Testing images:\n",
            "Found 2500 images belonging to 10 classes.\n"
          ],
          "name": "stdout"
        }
      ]
    },
    {
      "cell_type": "markdown",
      "metadata": {
        "id": "8medPL_7BATf"
      },
      "source": [
        "# Setting up callbacks \n",
        "\n",
        "callbacks are the extra functionality you can add to your models to be performed during or after training.Some of the most popular callbacks:\n",
        "* Tracking experiments with the TensorBoard callback \n",
        "* Model checkpoint with the ModelCheckpoint callback\n",
        "* Stopping a model from training with the early stopping callback\n"
      ]
    },
    {
      "cell_type": "code",
      "metadata": {
        "id": "SYo0ReMKAuuE"
      },
      "source": [
        "# Create a Tensorboard callback (functionized because we need to create a new one for each model)\n",
        "import datetime\n",
        "\n",
        "def create_tensorboard_callback(dir_name, experiment_name):\n",
        "  log_dir = dir_name + \"/\" +experiment_name + \"/\" +datetime.datetime.now().strftime('%Y%m%d-%H%M%S')\n",
        "  tensorboard_callback = tf.keras.callbacks.TensorBoard(log_dir=log_dir)\n",
        "  print(f\"Saving TensorBoard log files to : {log_dir}\")\n",
        "  return tensorboard_callback"
      ],
      "execution_count": 5,
      "outputs": []
    },
    {
      "cell_type": "markdown",
      "metadata": {
        "id": "13Akjc1MC9SV"
      },
      "source": [
        "**Note:** You can customize the directory where your Tensorboard logs(model training metrics) get saved to whatever you like. The log_dir parameter we have created above is only one option.  "
      ]
    },
    {
      "cell_type": "markdown",
      "metadata": {
        "id": "viDcGD8XFScD"
      },
      "source": [
        "# Creating models using Tensorflow hub\n",
        "\n",
        "In the past we have used tensorflow to create our own models layer by layer from scratch.\n",
        "\n",
        "Now we are going to do similar process, except the majority of our model's later are going to come from Tensorflow Hub. We can access pretrianed models on: https://tfhub.dev.\n",
        "\n",
        "Browsing the tensorflow hub page and sorting for the image classification, we found the following feature vector model link: https://tfhub.dev/tensorflow/efficientnet/b0/feature-vector/1\n"
      ]
    },
    {
      "cell_type": "code",
      "metadata": {
        "id": "c8Z3P8LMC4zm"
      },
      "source": [
        "# Let's compare following two models\n",
        "\n",
        "resnet_url = \"https://tfhub.dev/google/imagenet/resnet_v2_50/feature_vector/4\"\n",
        "efficientnet_url = \" https://tfhub.dev/tensorflow/efficientnet/b0/feature-vector/1\""
      ],
      "execution_count": 6,
      "outputs": []
    },
    {
      "cell_type": "code",
      "metadata": {
        "id": "7LDc5godIvdA"
      },
      "source": [
        "# import dependencies \n",
        "import tensorflow as tf\n",
        "import tensorflow_hub as hub\n",
        "from tensorflow.keras import layers"
      ],
      "execution_count": 7,
      "outputs": []
    },
    {
      "cell_type": "code",
      "metadata": {
        "id": "kX1I11e1JHoT"
      },
      "source": [
        "#Let's make a create_model() function to create \n",
        "def create_model(model_url, num_classes=10):\n",
        "  #Download the pretrained model and save it to the keras layer\n",
        "  feature_extractor_layer = hub.KerasLayer(model_url,\n",
        "                                           trainable=False,\n",
        "                                           name=\"feature_extraction_layer\",\n",
        "                                           input_shape = IMAGE_SHAPE+(3,))#freeze already learned patterns\n",
        "\n",
        "  #create pur own model\n",
        "  model = tf.keras.Sequential([\n",
        "                               feature_extractor_layer,\n",
        "                               layers.Dense(num_classes, activation=\"softmax\", name=\"output_layer\")\n",
        "\n",
        "  ])\n",
        "  return model"
      ],
      "execution_count": 8,
      "outputs": []
    },
    {
      "cell_type": "markdown",
      "metadata": {
        "id": "Zofub5nfPAFn"
      },
      "source": [
        "# Creating and testing ResNet TensorFlow Hub Feature Extraction model"
      ]
    },
    {
      "cell_type": "code",
      "metadata": {
        "id": "5i9fI_KPO8f6"
      },
      "source": [
        "# create ResNet model\n",
        "resnet_model = create_model(resnet_url,\n",
        "                            num_classes=train_data_10_percent.num_classes)"
      ],
      "execution_count": 9,
      "outputs": []
    },
    {
      "cell_type": "code",
      "metadata": {
        "colab": {
          "base_uri": "https://localhost:8080/"
        },
        "id": "sqOFIySjtMy-",
        "outputId": "3f5660ae-438e-4ae4-d6cc-a9b4ed54b43e"
      },
      "source": [
        "resnet_model.summary()"
      ],
      "execution_count": 10,
      "outputs": [
        {
          "output_type": "stream",
          "text": [
            "Model: \"sequential\"\n",
            "_________________________________________________________________\n",
            "Layer (type)                 Output Shape              Param #   \n",
            "=================================================================\n",
            "feature_extraction_layer (Ke (None, 2048)              23564800  \n",
            "_________________________________________________________________\n",
            "output_layer (Dense)         (None, 10)                20490     \n",
            "=================================================================\n",
            "Total params: 23,585,290\n",
            "Trainable params: 20,490\n",
            "Non-trainable params: 23,564,800\n",
            "_________________________________________________________________\n"
          ],
          "name": "stdout"
        }
      ]
    },
    {
      "cell_type": "code",
      "metadata": {
        "id": "EhcLGpGvtXwB"
      },
      "source": [
        "#compile resnet model\n",
        "resnet_model.compile(loss=\"categorical_crossentropy\",\n",
        "                     optimizer=tf.keras.optimizers.Adam(),\n",
        "                     metrics=[\"accuracy\"])"
      ],
      "execution_count": 11,
      "outputs": []
    },
    {
      "cell_type": "code",
      "metadata": {
        "colab": {
          "base_uri": "https://localhost:8080/"
        },
        "id": "sddPvQwQPdm9",
        "outputId": "361ddf7b-03e5-4091-8055-3c060ec31857"
      },
      "source": [
        "train_data_10_percent.num_classes"
      ],
      "execution_count": 12,
      "outputs": [
        {
          "output_type": "execute_result",
          "data": {
            "text/plain": [
              "10"
            ]
          },
          "metadata": {
            "tags": []
          },
          "execution_count": 12
        }
      ]
    },
    {
      "cell_type": "code",
      "metadata": {
        "id": "d1Prl9jxsZvr",
        "colab": {
          "base_uri": "https://localhost:8080/"
        },
        "outputId": "9cb79fdd-ac7d-4020-9829-3e7340b9e177"
      },
      "source": [
        "# Fit the model\n",
        "resnet_history = resnet_model.fit(train_data_10_percent,\n",
        "                                  epochs=5,\n",
        "                                  steps_per_epoch=len(train_data_10_percent),\n",
        "                                  validation_data=test_data_10_percent,\n",
        "                                  validation_steps=len(test_data_10_percent),\n",
        "                                  # Add TensorBoard callback to model (callbacks parameter takes a list)\n",
        "                                  callbacks=[create_tensorboard_callback(dir_name=\"tensorflow_hub\", # save experiment logs here\n",
        "                                                                         experiment_name=\"resnet50V2\")]) # name of log files\n",
        "\n"
      ],
      "execution_count": 13,
      "outputs": [
        {
          "output_type": "stream",
          "text": [
            "Saving TensorBoard log files to : tensorflow_hub/resnet50V2/20210719-091741\n",
            "Epoch 1/5\n",
            "24/24 [==============================] - 51s 772ms/step - loss: 1.8864 - accuracy: 0.3560 - val_loss: 1.2216 - val_accuracy: 0.6000\n",
            "Epoch 2/5\n",
            "24/24 [==============================] - 15s 660ms/step - loss: 0.9071 - accuracy: 0.7200 - val_loss: 0.8544 - val_accuracy: 0.7256\n",
            "Epoch 3/5\n",
            "24/24 [==============================] - 16s 695ms/step - loss: 0.6209 - accuracy: 0.8240 - val_loss: 0.7600 - val_accuracy: 0.7536\n",
            "Epoch 4/5\n",
            "24/24 [==============================] - 16s 669ms/step - loss: 0.4694 - accuracy: 0.8867 - val_loss: 0.7070 - val_accuracy: 0.7740\n",
            "Epoch 5/5\n",
            "24/24 [==============================] - 15s 655ms/step - loss: 0.3775 - accuracy: 0.9160 - val_loss: 0.6774 - val_accuracy: 0.7808\n"
          ],
          "name": "stdout"
        }
      ]
    },
    {
      "cell_type": "markdown",
      "metadata": {
        "id": "hCYhiVLbFiVQ"
      },
      "source": [
        "Transfer learning feature extractor model out perform all our previous models we built by hand and with a quicker training time and with only 10 percent of training set. "
      ]
    },
    {
      "cell_type": "code",
      "metadata": {
        "id": "9HFjdh5cFfSP"
      },
      "source": [
        "# create a function to plot oour loss curve\n",
        "import matplotlib.pyplot as plt\n",
        "\n",
        "def plot_loss_curve(history):\n",
        "  loss = history.history[\"loss\"]\n",
        "  val_loss = history.history[\"val_loss\"]\n",
        "\n",
        "  accuracy = history.history[\"accuracy\"]\n",
        "  val_accuracy = history.history[\"val_accuracy\"]\n",
        "\n",
        "  epochs = range(len(history.history[\"loss\"]))\n",
        "\n",
        "  #plot loss\n",
        "  plt.plot(epochs, loss, label=\"training_loss\")\n",
        "  plt.plot(epochs, val_loss, label=\"validation_loss\")\n",
        "  plt.title(\"loss\")\n",
        "  plt.xlabel(\"epochs\")\n",
        "  plt.legend()\n",
        "\n",
        "  #plot accuracy\n",
        "  plt.figure()\n",
        "  plt.plot(epochs, accuracy, label=\"training_accuaracy\")\n",
        "  plt.plot(epochs, val_accuracy, label=\"validation_accuracy\")\n",
        "  plt.title(\"accuracy\")\n",
        "  plt.xlabel(\"epochs\")\n",
        "  plt.legend()\n",
        "  "
      ],
      "execution_count": 14,
      "outputs": []
    },
    {
      "cell_type": "code",
      "metadata": {
        "colab": {
          "base_uri": "https://localhost:8080/",
          "height": 573
        },
        "id": "KyScQ6oGEcla",
        "outputId": "a0876b17-78c5-465a-f904-af713f00074f"
      },
      "source": [
        "plot_loss_curve(resnet_history)"
      ],
      "execution_count": 15,
      "outputs": [
        {
          "output_type": "display_data",
          "data": {
            "image/png": "[encoded data removed]",
            "text/plain": [
              "<Figure size 432x288 with 1 Axes>"
            ]
          },
          "metadata": {
            "tags": [],
            "needs_background": "light"
          }
        },
        {
          "output_type": "display_data",
          "data": {
            "image/png": "[encoded data removed]",
            "text/plain": [
              "<Figure size 432x288 with 1 Axes>"
            ]
          },
          "metadata": {
            "tags": [],
            "needs_background": "light"
          }
        }
      ]
    },
    {
      "cell_type": "markdown",
      "metadata": {
        "id": "gFR0grN2IZ5W"
      },
      "source": [
        "# Creating and testing EffecientNetB0 Tensorflow Hub feature extraction model"
      ]
    },
    {
      "cell_type": "code",
      "metadata": {
        "colab": {
          "base_uri": "https://localhost:8080/"
        },
        "id": "cW0MysaTHuAQ",
        "outputId": "649470f5-f2cc-4ff1-966d-7f73b694bb24"
      },
      "source": [
        "# create a efficent model\n",
        "efficient_model = create_model(model_url=\"https://tfhub.dev/tensorflow/efficientnet/b0/feature-vector/1\", num_classes = train_data_10_percent.num_classes)\n",
        "\n",
        "#compile \n",
        "efficient_model.compile(loss=\"categorical_crossentropy\",\n",
        "                        optimizer=tf.keras.optimizers.Adam(),\n",
        "                        metrics=['accuracy'])\n",
        "\n",
        "# fit the model\n",
        "efficient_history = efficient_model.fit(train_data_10_percent,\n",
        "                                           epochs=5, \n",
        "                                           steps_per_epoch=len(train_data_10_percent),\n",
        "                                           validation_data=test_data_10_percent,\n",
        "                                           validation_steps=len(test_data_10_percent),\n",
        "                                           callbacks=[create_tensorboard_callback(dir_name=\"tensorflow_hub\",\n",
        "                                                                                  experiment_name=\"EfficentNetB0\")])\n",
        "\n"
      ],
      "execution_count": 16,
      "outputs": [
        {
          "output_type": "stream",
          "text": [
            "Saving TensorBoard log files to : tensorflow_hub/EfficentNetB0/20210719-091945\n",
            "Epoch 1/5\n",
            "24/24 [==============================] - 26s 817ms/step - loss: 1.8237 - accuracy: 0.4520 - val_loss: 1.2829 - val_accuracy: 0.7468\n",
            "Epoch 2/5\n",
            "24/24 [==============================] - 15s 639ms/step - loss: 1.0485 - accuracy: 0.7733 - val_loss: 0.8560 - val_accuracy: 0.8272\n",
            "Epoch 3/5\n",
            "24/24 [==============================] - 15s 626ms/step - loss: 0.7490 - accuracy: 0.8360 - val_loss: 0.6892 - val_accuracy: 0.8496\n",
            "Epoch 4/5\n",
            "24/24 [==============================] - 15s 626ms/step - loss: 0.6047 - accuracy: 0.8600 - val_loss: 0.6027 - val_accuracy: 0.8632\n",
            "Epoch 5/5\n",
            "24/24 [==============================] - 15s 657ms/step - loss: 0.5089 - accuracy: 0.8867 - val_loss: 0.5544 - val_accuracy: 0.8696\n"
          ],
          "name": "stdout"
        }
      ]
    },
    {
      "cell_type": "code",
      "metadata": {
        "colab": {
          "base_uri": "https://localhost:8080/",
          "height": 573
        },
        "id": "tY6cl2XaKgky",
        "outputId": "b4b3797c-7d80-4060-d630-3b94b36f1443"
      },
      "source": [
        "plot_loss_curve(efficient_history)"
      ],
      "execution_count": 17,
      "outputs": [
        {
          "output_type": "display_data",
          "data": {
            "image/png": "[encoded data removed]",
            "text/plain": [
              "<Figure size 432x288 with 1 Axes>"
            ]
          },
          "metadata": {
            "tags": [],
            "needs_background": "light"
          }
        },
        {
          "output_type": "display_data",
          "data": {
            "image/png": "[encoded data removed]",
            "text/plain": [
              "<Figure size 432x288 with 1 Axes>"
            ]
          },
          "metadata": {
            "tags": [],
            "needs_background": "light"
          }
        }
      ]
    },
    {
      "cell_type": "markdown",
      "metadata": {
        "id": "DYc24gQEGONb"
      },
      "source": [
        "# Comparing our models results using TensorBoard"
      ]
    },
    {
      "cell_type": "code",
      "metadata": {
        "colab": {
          "base_uri": "https://localhost:8080/"
        },
        "id": "v5MqDbULGN-B",
        "outputId": "b7bb9505-f799-4413-f8bb-6c8a6439bca1"
      },
      "source": [
        "# Upload TensorBoard dev records \n",
        "!tensorboard dev upload --logdir ./tensorflow_hub/ \\\n",
        "  --name \"EfficientNetB0 Vs. ResNet50V2\" \\\n",
        "  --description \"comapring two TF Hub feature model architecture using 10% training data\"\\y"
      ],
      "execution_count": 18,
      "outputs": [
        {
          "output_type": "stream",
          "text": [
            "2021-07-19 09:34:57.487489: I tensorflow/stream_executor/platform/default/dso_loader.cc:53] Successfully opened dynamic library libcudart.so.11.0\n",
            "\n",
            "***** TensorBoard Uploader *****\n",
            "\n",
            "This will upload your TensorBoard logs to https://tensorboard.dev/ from\n",
            "the following directory:\n",
            "\n",
            "./tensorflow_hub/\n",
            "\n",
            "This TensorBoard will be visible to everyone. Do not upload sensitive\n",
            "data.\n",
            "\n",
            "Your use of this service is subject to Google's Terms of Service\n",
            "<https://policies.google.com/terms> and Privacy Policy\n",
            "<https://policies.google.com/privacy>, and TensorBoard.dev's Terms of Service\n",
            "<https://tensorboard.dev/policy/terms/>.\n",
            "\n",
            "This notice will not be shown again while you are logged into the uploader.\n",
            "To log out, run `tensorboard dev auth revoke`.\n",
            "\n",
            "Continue? (yes/NO) yes\n",
            "\n",
            "Please visit this URL to authorize this application: https://accounts.google.com/o/oauth2/auth?response_type=code&client_id=373649185512-8v619h5kft38l4456nm2dj4ubeqsrvh6.apps.googleusercontent.com&redirect_uri=urn%3Aietf%3Awg%3Aoauth%3A2.0%3Aoob&scope=openid+https%3A%2F%2Fwww.googleapis.com%2Fauth%2Fuserinfo.email&state=CAuGuFRDjDkLnUzlwClNISU3DFy7sG&prompt=consent&access_type=offline\n",
            "Enter the authorization code: 4/1AX4XfWhLiG-KREfPkHR5KVbBUeIpRFdCJLfPtu9RpagClKWaeD5emjH3OHs\n",
            "\n",
            "Data for the \"text\" plugin is now uploaded to TensorBoard.dev! Note that uploaded data is public. If you do not want to upload data for this plugin, use the \"--plugins\" command line argument.\n",
            "Upload started and will continue reading any new data as it's added to the logdir.\n",
            "\n",
            "To stop uploading, press Ctrl-C.\n",
            "\n",
            "New experiment created. View your TensorBoard at: https://tensorboard.dev/experiment/Gud6zlebQCe46eeT4MDGFg/\n",
            "\n",
            "\u001b[1m[2021-07-19T09:35:31]\u001b[0m Started scanning logdir.\n",
            "\u001b[1m[2021-07-19T09:35:33]\u001b[0m Total uploaded: 60 scalars, 0 tensors, 2 binary objects (5.8 MB)\n",
            "4/1AX4XfWhLiG-KREfPkHR5KVbBUeIpRFdCJLfPtu9RpagClKWaeD5emjH3OHs\n",
            "https://tensorboard.dev/experiment/Gud6zlebQCe46eeT4MDGFg/\n",
            "yes\n",
            "q\n",
            "\n",
            "\n",
            "Interrupted. View your TensorBoard at https://tensorboard.dev/experiment/Gud6zlebQCe46eeT4MDGFg/\n",
            "Traceback (most recent call last):\n",
            "  File \"/usr/local/bin/tensorboard\", line 8, in <module>\n",
            "    sys.exit(run_main())\n",
            "  File \"/usr/local/lib/python3.7/dist-packages/tensorboard/main.py\", line 46, in run_main\n",
            "    app.run(tensorboard.main, flags_parser=tensorboard.configure)\n",
            "  File \"/usr/local/lib/python3.7/dist-packages/absl/app.py\", line 303, in run\n",
            "    _run_main(main, args)\n",
            "  File \"/usr/local/lib/python3.7/dist-packages/absl/app.py\", line 251, in _run_main\n",
            "    sys.exit(main(argv))\n",
            "  File \"/usr/local/lib/python3.7/dist-packages/tensorboard/program.py\", line 276, in main\n",
            "    return runner(self.flags) or 0\n",
            "  File \"/usr/local/lib/python3.7/dist-packages/tensorboard/uploader/uploader_subcommand.py\", line 654, in run\n",
            "    return _run(flags, self._experiment_url_callback)\n",
            "  File \"/usr/local/lib/python3.7/dist-packages/tensorboard/uploader/uploader_subcommand.py\", line 124, in _run\n",
            "    intent.execute(server_info, channel)\n",
            "  File \"/usr/local/lib/python3.7/dist-packages/grpc/_channel.py\", line 1537, in __exit__\n",
            "    self._close()\n",
            "  File \"/usr/local/lib/python3.7/dist-packages/grpc/_channel.py\", line 1525, in _close\n",
            "    self._channel.close(cygrpc.StatusCode.cancelled, 'Channel closed!')\n",
            "  File \"src/python/grpcio/grpc/_cython/_cygrpc/channel.pyx.pxi\", line 515, in grpc._cython.cygrpc.Channel.close\n",
            "  File \"src/python/grpcio/grpc/_cython/_cygrpc/channel.pyx.pxi\", line 399, in grpc._cython.cygrpc._close\n",
            "  File \"src/python/grpcio/grpc/_cython/_cygrpc/channel.pyx.pxi\", line 429, in grpc._cython.cygrpc._close\n",
            "  File \"/usr/lib/python3.7/threading.py\", line 358, in notify_all\n",
            "    def notify_all(self):\n",
            "KeyboardInterrupt\n"
          ],
          "name": "stdout"
        }
      ]
    },
    {
      "cell_type": "code",
      "metadata": {
        "id": "DCN7ITCLPCBy",
        "colab": {
          "base_uri": "https://localhost:8080/"
        },
        "outputId": "c8a487dc-9be5-483c-a667-d82028c5ac28"
      },
      "source": [
        "# check out what Tensorboard experiments you have\n",
        "!tensorboard dev list\n"
      ],
      "execution_count": 19,
      "outputs": [
        {
          "output_type": "stream",
          "text": [
            "2021-07-19 09:40:04.839965: I tensorflow/stream_executor/platform/default/dso_loader.cc:53] Successfully opened dynamic library libcudart.so.11.0\n",
            "Data for the \"text\" plugin is now uploaded to TensorBoard.dev! Note that uploaded data is public. If you do not want to upload data for this plugin, use the \"--plugins\" command line argument.\n",
            "https://tensorboard.dev/experiment/Gud6zlebQCe46eeT4MDGFg/\n",
            "\tName                 EfficientNetB0 Vs. ResNet50V2\n",
            "\tDescription          comapring two TF Hub feature model architecture using 10% training data\n",
            "\tId                   Gud6zlebQCe46eeT4MDGFg\n",
            "\tCreated              2021-07-19 09:35:31 (4 minutes ago)\n",
            "\tUpdated              2021-07-19 09:35:33 (4 minutes ago)\n",
            "\tRuns                 4\n",
            "\tTags                 5\n",
            "\tScalars              60\n",
            "\tTensor bytes         0\n",
            "\tBinary object bytes  6086643\n",
            "Total: 1 experiment(s)\n"
          ],
          "name": "stdout"
        }
      ]
    },
    {
      "cell_type": "code",
      "metadata": {
        "id": "Of3I3FKOIv5_"
      },
      "source": [
        ""
      ],
      "execution_count": null,
      "outputs": []
    }
  ]
}